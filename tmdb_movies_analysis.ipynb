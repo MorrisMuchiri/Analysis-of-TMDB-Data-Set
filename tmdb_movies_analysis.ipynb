{
 "cells": [
  {
   "cell_type": "markdown",
   "id": "8fb06d5e-1dba-4a76-8a6a-1c73a4807cea",
   "metadata": {},
   "source": [
    "\n",
    "# Project: Investigate a Dataset - TMDB Movies\n",
    "\n",
    "\n",
    "   <a href=\"https://s3.amazonaws.com/video.udacity-data.com/topher/2018/July/5b57919a_data-set-options/data-set-options.pdf\">TMDB-Movies Dataset Location</a>\n",
    "\n",
    "## Table of Contents\n",
    "<ul>\n",
    "<li><a href=\"#intro\">Introduction</a></li>\n",
    "<li><a href=\"#wrangling\">Data Wrangling</a></li>\n",
    "<li><a href=\"#eda\">Exploratory Data Analysis</a></li>\n",
    "<li><a href=\"#conclusions\">Conclusions</a></li>\n",
    "<li><a href=\"#limitations\">Limitations</a></li>\n",
    "</ul>"
   ]
  },
  {
   "cell_type": "markdown",
   "id": "c6f75419",
   "metadata": {},
   "source": [
    "<a id='intro'></a>\n",
    "## Introduction\n",
    "\n",
    "### Data Collection and Posing the Questions "
   ]
  },
  {
   "cell_type": "code",
   "execution_count": 1,
   "id": "c6cbc061",
   "metadata": {},
   "outputs": [
    {
     "data": {
      "text/html": [
       "<div>\n",
       "<style scoped>\n",
       "    .dataframe tbody tr th:only-of-type {\n",
       "        vertical-align: middle;\n",
       "    }\n",
       "\n",
       "    .dataframe tbody tr th {\n",
       "        vertical-align: top;\n",
       "    }\n",
       "\n",
       "    .dataframe thead th {\n",
       "        text-align: right;\n",
       "    }\n",
       "</style>\n",
       "<table border=\"1\" class=\"dataframe\">\n",
       "  <thead>\n",
       "    <tr style=\"text-align: right;\">\n",
       "      <th></th>\n",
       "      <th>id</th>\n",
       "      <th>imdb_id</th>\n",
       "      <th>popularity</th>\n",
       "      <th>budget</th>\n",
       "      <th>revenue</th>\n",
       "      <th>original_title</th>\n",
       "      <th>cast</th>\n",
       "      <th>homepage</th>\n",
       "      <th>director</th>\n",
       "      <th>tagline</th>\n",
       "      <th>...</th>\n",
       "      <th>overview</th>\n",
       "      <th>runtime</th>\n",
       "      <th>genres</th>\n",
       "      <th>production_companies</th>\n",
       "      <th>release_date</th>\n",
       "      <th>vote_count</th>\n",
       "      <th>vote_average</th>\n",
       "      <th>release_year</th>\n",
       "      <th>budget_adj</th>\n",
       "      <th>revenue_adj</th>\n",
       "    </tr>\n",
       "  </thead>\n",
       "  <tbody>\n",
       "    <tr>\n",
       "      <th>0</th>\n",
       "      <td>135397</td>\n",
       "      <td>tt0369610</td>\n",
       "      <td>32.985763</td>\n",
       "      <td>150000000</td>\n",
       "      <td>1513528810</td>\n",
       "      <td>Jurassic World</td>\n",
       "      <td>Chris Pratt|Bryce Dallas Howard|Irrfan Khan|Vi...</td>\n",
       "      <td>http://www.jurassicworld.com/</td>\n",
       "      <td>Colin Trevorrow</td>\n",
       "      <td>The park is open.</td>\n",
       "      <td>...</td>\n",
       "      <td>Twenty-two years after the events of Jurassic ...</td>\n",
       "      <td>124</td>\n",
       "      <td>Action|Adventure|Science Fiction|Thriller</td>\n",
       "      <td>Universal Studios|Amblin Entertainment|Legenda...</td>\n",
       "      <td>6/9/15</td>\n",
       "      <td>5562</td>\n",
       "      <td>6.5</td>\n",
       "      <td>2015</td>\n",
       "      <td>1.379999e+08</td>\n",
       "      <td>1.392446e+09</td>\n",
       "    </tr>\n",
       "    <tr>\n",
       "      <th>1</th>\n",
       "      <td>76341</td>\n",
       "      <td>tt1392190</td>\n",
       "      <td>28.419936</td>\n",
       "      <td>150000000</td>\n",
       "      <td>378436354</td>\n",
       "      <td>Mad Max: Fury Road</td>\n",
       "      <td>Tom Hardy|Charlize Theron|Hugh Keays-Byrne|Nic...</td>\n",
       "      <td>http://www.madmaxmovie.com/</td>\n",
       "      <td>George Miller</td>\n",
       "      <td>What a Lovely Day.</td>\n",
       "      <td>...</td>\n",
       "      <td>An apocalyptic story set in the furthest reach...</td>\n",
       "      <td>120</td>\n",
       "      <td>Action|Adventure|Science Fiction|Thriller</td>\n",
       "      <td>Village Roadshow Pictures|Kennedy Miller Produ...</td>\n",
       "      <td>5/13/15</td>\n",
       "      <td>6185</td>\n",
       "      <td>7.1</td>\n",
       "      <td>2015</td>\n",
       "      <td>1.379999e+08</td>\n",
       "      <td>3.481613e+08</td>\n",
       "    </tr>\n",
       "    <tr>\n",
       "      <th>2</th>\n",
       "      <td>262500</td>\n",
       "      <td>tt2908446</td>\n",
       "      <td>13.112507</td>\n",
       "      <td>110000000</td>\n",
       "      <td>295238201</td>\n",
       "      <td>Insurgent</td>\n",
       "      <td>Shailene Woodley|Theo James|Kate Winslet|Ansel...</td>\n",
       "      <td>http://www.thedivergentseries.movie/#insurgent</td>\n",
       "      <td>Robert Schwentke</td>\n",
       "      <td>One Choice Can Destroy You</td>\n",
       "      <td>...</td>\n",
       "      <td>Beatrice Prior must confront her inner demons ...</td>\n",
       "      <td>119</td>\n",
       "      <td>Adventure|Science Fiction|Thriller</td>\n",
       "      <td>Summit Entertainment|Mandeville Films|Red Wago...</td>\n",
       "      <td>3/18/15</td>\n",
       "      <td>2480</td>\n",
       "      <td>6.3</td>\n",
       "      <td>2015</td>\n",
       "      <td>1.012000e+08</td>\n",
       "      <td>2.716190e+08</td>\n",
       "    </tr>\n",
       "    <tr>\n",
       "      <th>3</th>\n",
       "      <td>140607</td>\n",
       "      <td>tt2488496</td>\n",
       "      <td>11.173104</td>\n",
       "      <td>200000000</td>\n",
       "      <td>2068178225</td>\n",
       "      <td>Star Wars: The Force Awakens</td>\n",
       "      <td>Harrison Ford|Mark Hamill|Carrie Fisher|Adam D...</td>\n",
       "      <td>http://www.starwars.com/films/star-wars-episod...</td>\n",
       "      <td>J.J. Abrams</td>\n",
       "      <td>Every generation has a story.</td>\n",
       "      <td>...</td>\n",
       "      <td>Thirty years after defeating the Galactic Empi...</td>\n",
       "      <td>136</td>\n",
       "      <td>Action|Adventure|Science Fiction|Fantasy</td>\n",
       "      <td>Lucasfilm|Truenorth Productions|Bad Robot</td>\n",
       "      <td>12/15/15</td>\n",
       "      <td>5292</td>\n",
       "      <td>7.5</td>\n",
       "      <td>2015</td>\n",
       "      <td>1.839999e+08</td>\n",
       "      <td>1.902723e+09</td>\n",
       "    </tr>\n",
       "    <tr>\n",
       "      <th>4</th>\n",
       "      <td>168259</td>\n",
       "      <td>tt2820852</td>\n",
       "      <td>9.335014</td>\n",
       "      <td>190000000</td>\n",
       "      <td>1506249360</td>\n",
       "      <td>Furious 7</td>\n",
       "      <td>Vin Diesel|Paul Walker|Jason Statham|Michelle ...</td>\n",
       "      <td>http://www.furious7.com/</td>\n",
       "      <td>James Wan</td>\n",
       "      <td>Vengeance Hits Home</td>\n",
       "      <td>...</td>\n",
       "      <td>Deckard Shaw seeks revenge against Dominic Tor...</td>\n",
       "      <td>137</td>\n",
       "      <td>Action|Crime|Thriller</td>\n",
       "      <td>Universal Pictures|Original Film|Media Rights ...</td>\n",
       "      <td>4/1/15</td>\n",
       "      <td>2947</td>\n",
       "      <td>7.3</td>\n",
       "      <td>2015</td>\n",
       "      <td>1.747999e+08</td>\n",
       "      <td>1.385749e+09</td>\n",
       "    </tr>\n",
       "  </tbody>\n",
       "</table>\n",
       "<p>5 rows × 21 columns</p>\n",
       "</div>"
      ],
      "text/plain": [
       "       id    imdb_id  popularity     budget     revenue  \\\n",
       "0  135397  tt0369610   32.985763  150000000  1513528810   \n",
       "1   76341  tt1392190   28.419936  150000000   378436354   \n",
       "2  262500  tt2908446   13.112507  110000000   295238201   \n",
       "3  140607  tt2488496   11.173104  200000000  2068178225   \n",
       "4  168259  tt2820852    9.335014  190000000  1506249360   \n",
       "\n",
       "                 original_title  \\\n",
       "0                Jurassic World   \n",
       "1            Mad Max: Fury Road   \n",
       "2                     Insurgent   \n",
       "3  Star Wars: The Force Awakens   \n",
       "4                     Furious 7   \n",
       "\n",
       "                                                cast  \\\n",
       "0  Chris Pratt|Bryce Dallas Howard|Irrfan Khan|Vi...   \n",
       "1  Tom Hardy|Charlize Theron|Hugh Keays-Byrne|Nic...   \n",
       "2  Shailene Woodley|Theo James|Kate Winslet|Ansel...   \n",
       "3  Harrison Ford|Mark Hamill|Carrie Fisher|Adam D...   \n",
       "4  Vin Diesel|Paul Walker|Jason Statham|Michelle ...   \n",
       "\n",
       "                                            homepage          director  \\\n",
       "0                      http://www.jurassicworld.com/   Colin Trevorrow   \n",
       "1                        http://www.madmaxmovie.com/     George Miller   \n",
       "2     http://www.thedivergentseries.movie/#insurgent  Robert Schwentke   \n",
       "3  http://www.starwars.com/films/star-wars-episod...       J.J. Abrams   \n",
       "4                           http://www.furious7.com/         James Wan   \n",
       "\n",
       "                         tagline  ...  \\\n",
       "0              The park is open.  ...   \n",
       "1             What a Lovely Day.  ...   \n",
       "2     One Choice Can Destroy You  ...   \n",
       "3  Every generation has a story.  ...   \n",
       "4            Vengeance Hits Home  ...   \n",
       "\n",
       "                                            overview runtime  \\\n",
       "0  Twenty-two years after the events of Jurassic ...     124   \n",
       "1  An apocalyptic story set in the furthest reach...     120   \n",
       "2  Beatrice Prior must confront her inner demons ...     119   \n",
       "3  Thirty years after defeating the Galactic Empi...     136   \n",
       "4  Deckard Shaw seeks revenge against Dominic Tor...     137   \n",
       "\n",
       "                                      genres  \\\n",
       "0  Action|Adventure|Science Fiction|Thriller   \n",
       "1  Action|Adventure|Science Fiction|Thriller   \n",
       "2         Adventure|Science Fiction|Thriller   \n",
       "3   Action|Adventure|Science Fiction|Fantasy   \n",
       "4                      Action|Crime|Thriller   \n",
       "\n",
       "                                production_companies release_date vote_count  \\\n",
       "0  Universal Studios|Amblin Entertainment|Legenda...       6/9/15       5562   \n",
       "1  Village Roadshow Pictures|Kennedy Miller Produ...      5/13/15       6185   \n",
       "2  Summit Entertainment|Mandeville Films|Red Wago...      3/18/15       2480   \n",
       "3          Lucasfilm|Truenorth Productions|Bad Robot     12/15/15       5292   \n",
       "4  Universal Pictures|Original Film|Media Rights ...       4/1/15       2947   \n",
       "\n",
       "   vote_average  release_year    budget_adj   revenue_adj  \n",
       "0           6.5          2015  1.379999e+08  1.392446e+09  \n",
       "1           7.1          2015  1.379999e+08  3.481613e+08  \n",
       "2           6.3          2015  1.012000e+08  2.716190e+08  \n",
       "3           7.5          2015  1.839999e+08  1.902723e+09  \n",
       "4           7.3          2015  1.747999e+08  1.385749e+09  \n",
       "\n",
       "[5 rows x 21 columns]"
      ]
     },
     "execution_count": 1,
     "metadata": {},
     "output_type": "execute_result"
    }
   ],
   "source": [
    "import pandas as pd\n",
    "import numpy as np\n",
    "import matplotlib.pyplot as plt\n",
    "\n",
    "%matplotlib inline\n",
    "\n",
    "df = pd.read_csv(\"tmdb-movies.csv\")\n",
    "df.head()"
   ]
  },
  {
   "cell_type": "markdown",
   "id": "50350337-2a84-42c9-b448-046d24aecc0b",
   "metadata": {},
   "source": [
    "### Questions for Analysis\n",
    "+ What is the relationship between the bugdet used and the revenue?\n",
    "+ Which movie had the highest budget?\n",
    "+ What is the most popular movie?\n",
    "+ Who was the director and the cast members of the movie which was the most popular?\n",
    "+ Who was the director and the cast members of the movie which had the highest grossing?\n",
    "+ Which is the highest grossing movie?\n",
    "+ Which genres are most popular from year to year?\n",
    "+ How has the budget been over the years?\n",
    "+ How has the revenue been over the years?\n",
    "+ What kinds of properties are associated with movies that have high revenues?\n"
   ]
  },
  {
   "cell_type": "markdown",
   "id": "42b5da62-8a8d-48c1-a973-a76714f92d87",
   "metadata": {},
   "source": [
    "<a id='wrangling'></a>\n",
    "## Data Wrangling\n",
    "\n",
    "__*Here we will load in the data, check for cleanliness, and then trim and clean your dataset for analysis.*__"
   ]
  },
  {
   "cell_type": "code",
   "execution_count": 2,
   "id": "226fc18e",
   "metadata": {},
   "outputs": [
    {
     "name": "stdout",
     "output_type": "stream",
     "text": [
      "<class 'pandas.core.frame.DataFrame'>\n",
      "RangeIndex: 10866 entries, 0 to 10865\n",
      "Data columns (total 21 columns):\n",
      " #   Column                Non-Null Count  Dtype  \n",
      "---  ------                --------------  -----  \n",
      " 0   id                    10866 non-null  int64  \n",
      " 1   imdb_id               10856 non-null  object \n",
      " 2   popularity            10866 non-null  float64\n",
      " 3   budget                10866 non-null  int64  \n",
      " 4   revenue               10866 non-null  int64  \n",
      " 5   original_title        10866 non-null  object \n",
      " 6   cast                  10790 non-null  object \n",
      " 7   homepage              2936 non-null   object \n",
      " 8   director              10822 non-null  object \n",
      " 9   tagline               8042 non-null   object \n",
      " 10  keywords              9373 non-null   object \n",
      " 11  overview              10862 non-null  object \n",
      " 12  runtime               10866 non-null  int64  \n",
      " 13  genres                10843 non-null  object \n",
      " 14  production_companies  9836 non-null   object \n",
      " 15  release_date          10866 non-null  object \n",
      " 16  vote_count            10866 non-null  int64  \n",
      " 17  vote_average          10866 non-null  float64\n",
      " 18  release_year          10866 non-null  int64  \n",
      " 19  budget_adj            10866 non-null  float64\n",
      " 20  revenue_adj           10866 non-null  float64\n",
      "dtypes: float64(4), int64(6), object(11)\n",
      "memory usage: 1.7+ MB\n"
     ]
    }
   ],
   "source": [
    "df.info()"
   ]
  },
  {
   "cell_type": "markdown",
   "id": "c52c93a8-6c0e-4389-ab9c-6df9ca8feb97",
   "metadata": {},
   "source": [
    "> We remove (keyword, overview and homepage) columns since we do not need the here"
   ]
  },
  {
   "cell_type": "code",
   "execution_count": 6,
   "id": "36c57559-34ee-4f0c-a206-f7e1350b86ec",
   "metadata": {},
   "outputs": [
    {
     "name": "stdout",
     "output_type": "stream",
     "text": [
      "<class 'pandas.core.frame.DataFrame'>\n",
      "RangeIndex: 10866 entries, 0 to 10865\n",
      "Data columns (total 18 columns):\n",
      " #   Column                Non-Null Count  Dtype  \n",
      "---  ------                --------------  -----  \n",
      " 0   id                    10866 non-null  int64  \n",
      " 1   imdb_id               10856 non-null  object \n",
      " 2   popularity            10866 non-null  float64\n",
      " 3   budget                10866 non-null  int64  \n",
      " 4   revenue               10866 non-null  int64  \n",
      " 5   original_title        10866 non-null  object \n",
      " 6   cast                  10790 non-null  object \n",
      " 7   director              10822 non-null  object \n",
      " 8   tagline               8042 non-null   object \n",
      " 9   runtime               10866 non-null  int64  \n",
      " 10  genres                10843 non-null  object \n",
      " 11  production_companies  9836 non-null   object \n",
      " 12  release_date          10866 non-null  object \n",
      " 13  vote_count            10866 non-null  int64  \n",
      " 14  vote_average          10866 non-null  float64\n",
      " 15  release_year          10866 non-null  int64  \n",
      " 16  budget_adj            10866 non-null  float64\n",
      " 17  revenue_adj           10866 non-null  float64\n",
      "dtypes: float64(4), int64(6), object(8)\n",
      "memory usage: 1.5+ MB\n"
     ]
    }
   ],
   "source": [
    "# df.drop([\"keywords\"], axis=1, inplace= True)\n",
    "# df.drop([\"overview\"], axis=1, inplace= True)\n",
    "# df.drop([\"homepage\"], axis=1, inplace= True)\n",
    "df.info()"
   ]
  },
  {
   "cell_type": "code",
   "execution_count": 8,
   "id": "ca6a42b5-c073-4ff3-9cce-34cc42010e0f",
   "metadata": {},
   "outputs": [
    {
     "data": {
      "text/plain": [
       "id                         0\n",
       "imdb_id                   10\n",
       "popularity                 0\n",
       "budget                     0\n",
       "revenue                    0\n",
       "original_title             0\n",
       "cast                      76\n",
       "director                  44\n",
       "tagline                 2824\n",
       "runtime                    0\n",
       "genres                    23\n",
       "production_companies    1030\n",
       "release_date               0\n",
       "vote_count                 0\n",
       "vote_average               0\n",
       "release_year               0\n",
       "budget_adj                 0\n",
       "revenue_adj                0\n",
       "dtype: int64"
      ]
     },
     "execution_count": 8,
     "metadata": {},
     "output_type": "execute_result"
    }
   ],
   "source": [
    "df.isnull().sum()"
   ]
  },
  {
   "cell_type": "markdown",
   "id": "13599a10-4a2d-4ab8-ac81-eace2c66719b",
   "metadata": {},
   "source": [
    "> Let's also remove the (imdb_id and tagline) columns since they also will not be of much use"
   ]
  },
  {
   "cell_type": "code",
   "execution_count": 9,
   "id": "5f2b8cf4-a144-40b7-be33-5c27e1900413",
   "metadata": {},
   "outputs": [],
   "source": [
    "df.drop([\"imdb_id\"], axis=1, inplace= True)\n",
    "df.drop([\"tagline\"], axis=1, inplace= True)"
   ]
  },
  {
   "cell_type": "markdown",
   "id": "631a76db-3e64-4222-a262-57b92d79ca58",
   "metadata": {},
   "source": [
    "> We can leave the data as it is the Empty rows in the different columns will not affect our analysis"
   ]
  },
  {
   "cell_type": "code",
   "execution_count": 12,
   "id": "f2e71573-38b7-44f6-a049-cba70cd243c1",
   "metadata": {},
   "outputs": [
    {
     "data": {
      "text/plain": [
       "1"
      ]
     },
     "execution_count": 12,
     "metadata": {},
     "output_type": "execute_result"
    }
   ],
   "source": [
    "df.duplicated().sum()"
   ]
  },
  {
   "cell_type": "code",
   "execution_count": 13,
   "id": "0a653296-b107-4c98-a7da-c36ddfc97f5f",
   "metadata": {},
   "outputs": [],
   "source": [
    "df.drop_duplicates(inplace = True)"
   ]
  },
  {
   "cell_type": "code",
   "execution_count": 14,
   "id": "be04eaf8-6573-4f45-9be1-0caf2ad4df00",
   "metadata": {},
   "outputs": [
    {
     "data": {
      "text/plain": [
       "0"
      ]
     },
     "execution_count": 14,
     "metadata": {},
     "output_type": "execute_result"
    }
   ],
   "source": [
    "df.duplicated().sum()"
   ]
  },
  {
   "cell_type": "markdown",
   "id": "b1f415e2-4142-48cf-a840-7cc4f7001826",
   "metadata": {},
   "source": [
    "> We have droped the 1 row which had been duplicated"
   ]
  },
  {
   "cell_type": "code",
   "execution_count": 16,
   "id": "769d58fa-e925-4d38-80c0-097306463514",
   "metadata": {},
   "outputs": [
    {
     "data": {
      "text/plain": [
       "id                        int64\n",
       "popularity              float64\n",
       "budget                    int64\n",
       "revenue                   int64\n",
       "original_title           object\n",
       "cast                     object\n",
       "director                 object\n",
       "runtime                   int64\n",
       "genres                   object\n",
       "production_companies     object\n",
       "release_date             object\n",
       "vote_count                int64\n",
       "vote_average            float64\n",
       "release_year              int64\n",
       "budget_adj              float64\n",
       "revenue_adj             float64\n",
       "dtype: object"
      ]
     },
     "execution_count": 16,
     "metadata": {},
     "output_type": "execute_result"
    }
   ],
   "source": [
    "df.dtypes"
   ]
  },
  {
   "cell_type": "code",
   "execution_count": 17,
   "id": "1be69fca-eee4-4b87-840f-65848082cb57",
   "metadata": {},
   "outputs": [],
   "source": [
    "df[\"release_date\"] = pd.to_datetime(df[\"release_date\"])"
   ]
  },
  {
   "cell_type": "code",
   "execution_count": 19,
   "id": "d4587ae8-f974-4444-9186-6b37bcde9c09",
   "metadata": {},
   "outputs": [
    {
     "data": {
      "text/plain": [
       "id                               int64\n",
       "popularity                     float64\n",
       "budget                           int64\n",
       "revenue                          int64\n",
       "original_title                  object\n",
       "cast                            object\n",
       "director                        object\n",
       "runtime                          int64\n",
       "genres                          object\n",
       "production_companies            object\n",
       "release_date            datetime64[ns]\n",
       "vote_count                       int64\n",
       "vote_average                   float64\n",
       "release_year                     int64\n",
       "budget_adj                     float64\n",
       "revenue_adj                    float64\n",
       "dtype: object"
      ]
     },
     "execution_count": 19,
     "metadata": {},
     "output_type": "execute_result"
    }
   ],
   "source": [
    "df.dtypes"
   ]
  },
  {
   "cell_type": "markdown",
   "id": "c4367e43-b6e8-41ba-ac3b-8288061ac1f8",
   "metadata": {},
   "source": [
    "> We have changed the datatype for (release_date) from string to datetime\n",
    "\n",
    "> Otherwise our data is clean to start doing EDA (Exploratory Data Analysis)"
   ]
  },
  {
   "cell_type": "markdown",
   "id": "d8c90e88-3d1b-42c9-b204-6fe2454f841c",
   "metadata": {},
   "source": [
    "<a id='eda'></a>\n",
    "## EDA Exploring our data"
   ]
  },
  {
   "cell_type": "markdown",
   "id": "779dd873-1832-4ae7-9dfb-ebc78ae7f041",
   "metadata": {},
   "source": [
    "##### Statistical Summary"
   ]
  },
  {
   "cell_type": "code",
   "execution_count": 2,
   "id": "6fe34822-02c1-417b-bc7f-1ab53976b777",
   "metadata": {},
   "outputs": [
    {
     "data": {
      "text/html": [
       "<div>\n",
       "<style scoped>\n",
       "    .dataframe tbody tr th:only-of-type {\n",
       "        vertical-align: middle;\n",
       "    }\n",
       "\n",
       "    .dataframe tbody tr th {\n",
       "        vertical-align: top;\n",
       "    }\n",
       "\n",
       "    .dataframe thead th {\n",
       "        text-align: right;\n",
       "    }\n",
       "</style>\n",
       "<table border=\"1\" class=\"dataframe\">\n",
       "  <thead>\n",
       "    <tr style=\"text-align: right;\">\n",
       "      <th></th>\n",
       "      <th>id</th>\n",
       "      <th>popularity</th>\n",
       "      <th>budget</th>\n",
       "      <th>revenue</th>\n",
       "      <th>runtime</th>\n",
       "      <th>vote_count</th>\n",
       "      <th>vote_average</th>\n",
       "      <th>release_year</th>\n",
       "      <th>budget_adj</th>\n",
       "      <th>revenue_adj</th>\n",
       "    </tr>\n",
       "  </thead>\n",
       "  <tbody>\n",
       "    <tr>\n",
       "      <th>count</th>\n",
       "      <td>10866.00</td>\n",
       "      <td>10866.00</td>\n",
       "      <td>1.086600e+04</td>\n",
       "      <td>1.086600e+04</td>\n",
       "      <td>10866.00</td>\n",
       "      <td>10866.00</td>\n",
       "      <td>10866.00</td>\n",
       "      <td>10866.00</td>\n",
       "      <td>1.086600e+04</td>\n",
       "      <td>1.086600e+04</td>\n",
       "    </tr>\n",
       "    <tr>\n",
       "      <th>mean</th>\n",
       "      <td>66064.18</td>\n",
       "      <td>0.65</td>\n",
       "      <td>1.462570e+07</td>\n",
       "      <td>3.982332e+07</td>\n",
       "      <td>102.07</td>\n",
       "      <td>217.39</td>\n",
       "      <td>5.97</td>\n",
       "      <td>2001.32</td>\n",
       "      <td>1.755104e+07</td>\n",
       "      <td>5.136436e+07</td>\n",
       "    </tr>\n",
       "    <tr>\n",
       "      <th>std</th>\n",
       "      <td>92130.14</td>\n",
       "      <td>1.00</td>\n",
       "      <td>3.091321e+07</td>\n",
       "      <td>1.170035e+08</td>\n",
       "      <td>31.38</td>\n",
       "      <td>575.62</td>\n",
       "      <td>0.94</td>\n",
       "      <td>12.81</td>\n",
       "      <td>3.430616e+07</td>\n",
       "      <td>1.446325e+08</td>\n",
       "    </tr>\n",
       "    <tr>\n",
       "      <th>min</th>\n",
       "      <td>5.00</td>\n",
       "      <td>0.00</td>\n",
       "      <td>0.000000e+00</td>\n",
       "      <td>0.000000e+00</td>\n",
       "      <td>0.00</td>\n",
       "      <td>10.00</td>\n",
       "      <td>1.50</td>\n",
       "      <td>1960.00</td>\n",
       "      <td>0.000000e+00</td>\n",
       "      <td>0.000000e+00</td>\n",
       "    </tr>\n",
       "    <tr>\n",
       "      <th>25%</th>\n",
       "      <td>10596.25</td>\n",
       "      <td>0.21</td>\n",
       "      <td>0.000000e+00</td>\n",
       "      <td>0.000000e+00</td>\n",
       "      <td>90.00</td>\n",
       "      <td>17.00</td>\n",
       "      <td>5.40</td>\n",
       "      <td>1995.00</td>\n",
       "      <td>0.000000e+00</td>\n",
       "      <td>0.000000e+00</td>\n",
       "    </tr>\n",
       "    <tr>\n",
       "      <th>50%</th>\n",
       "      <td>20669.00</td>\n",
       "      <td>0.38</td>\n",
       "      <td>0.000000e+00</td>\n",
       "      <td>0.000000e+00</td>\n",
       "      <td>99.00</td>\n",
       "      <td>38.00</td>\n",
       "      <td>6.00</td>\n",
       "      <td>2006.00</td>\n",
       "      <td>0.000000e+00</td>\n",
       "      <td>0.000000e+00</td>\n",
       "    </tr>\n",
       "    <tr>\n",
       "      <th>75%</th>\n",
       "      <td>75610.00</td>\n",
       "      <td>0.71</td>\n",
       "      <td>1.500000e+07</td>\n",
       "      <td>2.400000e+07</td>\n",
       "      <td>111.00</td>\n",
       "      <td>145.75</td>\n",
       "      <td>6.60</td>\n",
       "      <td>2011.00</td>\n",
       "      <td>2.085325e+07</td>\n",
       "      <td>3.369710e+07</td>\n",
       "    </tr>\n",
       "    <tr>\n",
       "      <th>95%</th>\n",
       "      <td>288556.00</td>\n",
       "      <td>2.05</td>\n",
       "      <td>7.500000e+07</td>\n",
       "      <td>2.136722e+08</td>\n",
       "      <td>139.00</td>\n",
       "      <td>1025.75</td>\n",
       "      <td>7.40</td>\n",
       "      <td>2015.00</td>\n",
       "      <td>8.937514e+07</td>\n",
       "      <td>2.765544e+08</td>\n",
       "    </tr>\n",
       "    <tr>\n",
       "      <th>99%</th>\n",
       "      <td>347529.80</td>\n",
       "      <td>4.58</td>\n",
       "      <td>1.500000e+08</td>\n",
       "      <td>5.872457e+08</td>\n",
       "      <td>184.00</td>\n",
       "      <td>3018.50</td>\n",
       "      <td>7.90</td>\n",
       "      <td>2015.00</td>\n",
       "      <td>1.623004e+08</td>\n",
       "      <td>6.987106e+08</td>\n",
       "    </tr>\n",
       "    <tr>\n",
       "      <th>max</th>\n",
       "      <td>417859.00</td>\n",
       "      <td>32.99</td>\n",
       "      <td>4.250000e+08</td>\n",
       "      <td>2.781506e+09</td>\n",
       "      <td>900.00</td>\n",
       "      <td>9767.00</td>\n",
       "      <td>9.20</td>\n",
       "      <td>2015.00</td>\n",
       "      <td>4.250000e+08</td>\n",
       "      <td>2.827124e+09</td>\n",
       "    </tr>\n",
       "  </tbody>\n",
       "</table>\n",
       "</div>"
      ],
      "text/plain": [
       "              id  popularity        budget       revenue   runtime  \\\n",
       "count   10866.00    10866.00  1.086600e+04  1.086600e+04  10866.00   \n",
       "mean    66064.18        0.65  1.462570e+07  3.982332e+07    102.07   \n",
       "std     92130.14        1.00  3.091321e+07  1.170035e+08     31.38   \n",
       "min         5.00        0.00  0.000000e+00  0.000000e+00      0.00   \n",
       "25%     10596.25        0.21  0.000000e+00  0.000000e+00     90.00   \n",
       "50%     20669.00        0.38  0.000000e+00  0.000000e+00     99.00   \n",
       "75%     75610.00        0.71  1.500000e+07  2.400000e+07    111.00   \n",
       "95%    288556.00        2.05  7.500000e+07  2.136722e+08    139.00   \n",
       "99%    347529.80        4.58  1.500000e+08  5.872457e+08    184.00   \n",
       "max    417859.00       32.99  4.250000e+08  2.781506e+09    900.00   \n",
       "\n",
       "       vote_count  vote_average  release_year    budget_adj   revenue_adj  \n",
       "count    10866.00      10866.00      10866.00  1.086600e+04  1.086600e+04  \n",
       "mean       217.39          5.97       2001.32  1.755104e+07  5.136436e+07  \n",
       "std        575.62          0.94         12.81  3.430616e+07  1.446325e+08  \n",
       "min         10.00          1.50       1960.00  0.000000e+00  0.000000e+00  \n",
       "25%         17.00          5.40       1995.00  0.000000e+00  0.000000e+00  \n",
       "50%         38.00          6.00       2006.00  0.000000e+00  0.000000e+00  \n",
       "75%        145.75          6.60       2011.00  2.085325e+07  3.369710e+07  \n",
       "95%       1025.75          7.40       2015.00  8.937514e+07  2.765544e+08  \n",
       "99%       3018.50          7.90       2015.00  1.623004e+08  6.987106e+08  \n",
       "max       9767.00          9.20       2015.00  4.250000e+08  2.827124e+09  "
      ]
     },
     "execution_count": 2,
     "metadata": {},
     "output_type": "execute_result"
    }
   ],
   "source": [
    "df.describe(percentiles = [0.25,0.50,0.75,0.95, 0.99]).round(2)"
   ]
  },
  {
   "cell_type": "code",
   "execution_count": 4,
   "id": "6d4c81de-d845-4615-a16c-240009bbf715",
   "metadata": {},
   "outputs": [],
   "source": [
    "#interquatile range\n",
    "# df[\"release_year\"].quantile(0.75)-df[\"release_year\"].quantile(0.25)"
   ]
  },
  {
   "cell_type": "markdown",
   "id": "8b3b03c1-5867-4436-97a9-6405eb3b2ad0",
   "metadata": {},
   "source": [
    "> Displaying of the Statistical summary for measures which summarizes important features of data, often with a single number\n",
    "\n",
    "> _We can be able to see that most amount of movies were produced between the year 2006 - 2011 (25%-75%)_\n"
   ]
  },
  {
   "cell_type": "code",
   "execution_count": 24,
   "id": "8331214f-77cb-425a-816a-7baf8bb9a0f2",
   "metadata": {},
   "outputs": [
    {
     "data": {
      "image/png": "[encoded data removed]",
      "text/plain": [
       "<Figure size 864x864 with 12 Axes>"
      ]
     },
     "metadata": {
      "needs_background": "light"
     },
     "output_type": "display_data"
    }
   ],
   "source": [
    "df.hist(figsize = (12,12), color =\"yellow\");"
   ]
  },
  {
   "cell_type": "markdown",
   "id": "188f926b-8507-414e-9d89-e9d53476d4e3",
   "metadata": {},
   "source": [
    "> Shows the distributions of the various variables in the data sets\n",
    "\n",
    "> Most of the variables are skewed to the right except for _release-year_ and _vote-average_\n",
    "\n",
    "> We can see that most of the movies were released in the late _90's_ and early _2000's_"
   ]
  },
  {
   "cell_type": "markdown",
   "id": "cd7f8feb-9b7c-4edf-ac8a-f314467b9fcc",
   "metadata": {},
   "source": [
    "> **Research Question 1 - What is the relationship between the bugdet used and the revenue?**"
   ]
  },
  {
   "cell_type": "markdown",
   "id": "498b3fff-8310-411d-b26e-c0f9cdafa58d",
   "metadata": {},
   "source": [
    "##### Draw a scatter plot of Revenue against Budget"
   ]
  },
  {
   "cell_type": "code",
   "execution_count": 8,
   "id": "f118c5ec-0f45-49d9-9ce6-d5c81ce2507d",
   "metadata": {},
   "outputs": [
    {
     "data": {
      "image/png": "[encoded data removed]",
      "text/plain": [
       "<Figure size 432x288 with 1 Axes>"
      ]
     },
     "metadata": {
      "needs_background": "light"
     },
     "output_type": "display_data"
    }
   ],
   "source": [
    "df.plot.scatter(x = \"budget\", y = \"revenue\", title = \"Revenue against Budget\", c = \"orange\");"
   ]
  },
  {
   "cell_type": "markdown",
   "id": "81137ba8-559b-477c-a47f-a519cc06fb76",
   "metadata": {},
   "source": [
    "> _A scatter plot shows a relationship between 2 variables_\n",
    "\n",
    "> Here we can see that the **_revenue_** and **_budget_** is positively correlated"
   ]
  },
  {
   "cell_type": "markdown",
   "id": "33d88ba8-0477-4e66-b83a-d55767a8649b",
   "metadata": {},
   "source": [
    "> **Research Question 2 - Which movie had the highest budget?**"
   ]
  },
  {
   "cell_type": "code",
   "execution_count": 11,
   "id": "138f3556-6b5d-4984-a622-d4af1e591ca0",
   "metadata": {},
   "outputs": [
    {
     "data": {
      "text/plain": [
       "425000000"
      ]
     },
     "execution_count": 11,
     "metadata": {},
     "output_type": "execute_result"
    }
   ],
   "source": [
    "df[\"budget\"].max()"
   ]
  },
  {
   "cell_type": "code",
   "execution_count": 22,
   "id": "3899a5fe-915c-4075-991a-c07a4c156589",
   "metadata": {},
   "outputs": [
    {
     "data": {
      "text/html": [
       "<div>\n",
       "<style scoped>\n",
       "    .dataframe tbody tr th:only-of-type {\n",
       "        vertical-align: middle;\n",
       "    }\n",
       "\n",
       "    .dataframe tbody tr th {\n",
       "        vertical-align: top;\n",
       "    }\n",
       "\n",
       "    .dataframe thead th {\n",
       "        text-align: right;\n",
       "    }\n",
       "</style>\n",
       "<table border=\"1\" class=\"dataframe\">\n",
       "  <thead>\n",
       "    <tr style=\"text-align: right;\">\n",
       "      <th></th>\n",
       "      <th>id</th>\n",
       "      <th>imdb_id</th>\n",
       "      <th>popularity</th>\n",
       "      <th>budget</th>\n",
       "      <th>revenue</th>\n",
       "      <th>original_title</th>\n",
       "      <th>cast</th>\n",
       "      <th>homepage</th>\n",
       "      <th>director</th>\n",
       "      <th>tagline</th>\n",
       "      <th>...</th>\n",
       "      <th>overview</th>\n",
       "      <th>runtime</th>\n",
       "      <th>genres</th>\n",
       "      <th>production_companies</th>\n",
       "      <th>release_date</th>\n",
       "      <th>vote_count</th>\n",
       "      <th>vote_average</th>\n",
       "      <th>release_year</th>\n",
       "      <th>budget_adj</th>\n",
       "      <th>revenue_adj</th>\n",
       "    </tr>\n",
       "  </thead>\n",
       "  <tbody>\n",
       "    <tr>\n",
       "      <th>2244</th>\n",
       "      <td>46528</td>\n",
       "      <td>tt1032751</td>\n",
       "      <td>0.25054</td>\n",
       "      <td>425000000</td>\n",
       "      <td>11087569</td>\n",
       "      <td>The Warrior's Way</td>\n",
       "      <td>Kate Bosworth|Jang Dong-gun|Geoffrey Rush|Dann...</td>\n",
       "      <td>http://www.iamrogue.com/thewarriorsway</td>\n",
       "      <td>Sngmoo Lee</td>\n",
       "      <td>Assassin. Hero. Legend.</td>\n",
       "      <td>...</td>\n",
       "      <td>An Asian assassin (Dong-gun Jang) is forced to...</td>\n",
       "      <td>100</td>\n",
       "      <td>Adventure|Fantasy|Action|Western|Thriller</td>\n",
       "      <td>Boram Entertainment Inc.</td>\n",
       "      <td>12/2/10</td>\n",
       "      <td>74</td>\n",
       "      <td>6.4</td>\n",
       "      <td>2010</td>\n",
       "      <td>425000000.0</td>\n",
       "      <td>11087569.0</td>\n",
       "    </tr>\n",
       "  </tbody>\n",
       "</table>\n",
       "<p>1 rows × 21 columns</p>\n",
       "</div>"
      ],
      "text/plain": [
       "         id    imdb_id  popularity     budget   revenue     original_title  \\\n",
       "2244  46528  tt1032751     0.25054  425000000  11087569  The Warrior's Way   \n",
       "\n",
       "                                                   cast  \\\n",
       "2244  Kate Bosworth|Jang Dong-gun|Geoffrey Rush|Dann...   \n",
       "\n",
       "                                    homepage    director  \\\n",
       "2244  http://www.iamrogue.com/thewarriorsway  Sngmoo Lee   \n",
       "\n",
       "                      tagline  ...  \\\n",
       "2244  Assassin. Hero. Legend.  ...   \n",
       "\n",
       "                                               overview runtime  \\\n",
       "2244  An Asian assassin (Dong-gun Jang) is forced to...     100   \n",
       "\n",
       "                                         genres      production_companies  \\\n",
       "2244  Adventure|Fantasy|Action|Western|Thriller  Boram Entertainment Inc.   \n",
       "\n",
       "     release_date vote_count  vote_average  release_year   budget_adj  \\\n",
       "2244      12/2/10         74           6.4          2010  425000000.0   \n",
       "\n",
       "      revenue_adj  \n",
       "2244   11087569.0  \n",
       "\n",
       "[1 rows x 21 columns]"
      ]
     },
     "execution_count": 22,
     "metadata": {},
     "output_type": "execute_result"
    }
   ],
   "source": [
    "def maxbp(a):\n",
    "    max_bud = df[a].max()\n",
    "    maxbp = df[df[a] == max_bud]\n",
    "    return maxbp\n",
    "maxbp(\"budget\")\n",
    "#max_bud = df[\"budget\"].max()\n",
    "#df[df[\"budget\"] == max_bud]"
   ]
  },
  {
   "cell_type": "markdown",
   "id": "f2eff650-306b-48c7-ae6c-496a5317714d",
   "metadata": {},
   "source": [
    "> Here we are checking the whole row whereby we have the maximum **budget** spent on the movie"
   ]
  },
  {
   "cell_type": "markdown",
   "id": "196543e7-b527-437a-9983-a82d20c048f5",
   "metadata": {},
   "source": [
    "> **Research Question 3 - What is the most popular movie?**"
   ]
  },
  {
   "cell_type": "code",
   "execution_count": 13,
   "id": "8472d181-9c12-4c6e-be86-8ff84b5b174c",
   "metadata": {},
   "outputs": [
    {
     "data": {
      "text/plain": [
       "32.985763"
      ]
     },
     "execution_count": 13,
     "metadata": {},
     "output_type": "execute_result"
    }
   ],
   "source": [
    "df[\"popularity\"].max()"
   ]
  },
  {
   "cell_type": "code",
   "execution_count": 23,
   "id": "6bc6bd57-83ce-464f-8efb-464924a45b39",
   "metadata": {},
   "outputs": [
    {
     "data": {
      "text/html": [
       "<div>\n",
       "<style scoped>\n",
       "    .dataframe tbody tr th:only-of-type {\n",
       "        vertical-align: middle;\n",
       "    }\n",
       "\n",
       "    .dataframe tbody tr th {\n",
       "        vertical-align: top;\n",
       "    }\n",
       "\n",
       "    .dataframe thead th {\n",
       "        text-align: right;\n",
       "    }\n",
       "</style>\n",
       "<table border=\"1\" class=\"dataframe\">\n",
       "  <thead>\n",
       "    <tr style=\"text-align: right;\">\n",
       "      <th></th>\n",
       "      <th>id</th>\n",
       "      <th>imdb_id</th>\n",
       "      <th>popularity</th>\n",
       "      <th>budget</th>\n",
       "      <th>revenue</th>\n",
       "      <th>original_title</th>\n",
       "      <th>cast</th>\n",
       "      <th>homepage</th>\n",
       "      <th>director</th>\n",
       "      <th>tagline</th>\n",
       "      <th>...</th>\n",
       "      <th>overview</th>\n",
       "      <th>runtime</th>\n",
       "      <th>genres</th>\n",
       "      <th>production_companies</th>\n",
       "      <th>release_date</th>\n",
       "      <th>vote_count</th>\n",
       "      <th>vote_average</th>\n",
       "      <th>release_year</th>\n",
       "      <th>budget_adj</th>\n",
       "      <th>revenue_adj</th>\n",
       "    </tr>\n",
       "  </thead>\n",
       "  <tbody>\n",
       "    <tr>\n",
       "      <th>0</th>\n",
       "      <td>135397</td>\n",
       "      <td>tt0369610</td>\n",
       "      <td>32.985763</td>\n",
       "      <td>150000000</td>\n",
       "      <td>1513528810</td>\n",
       "      <td>Jurassic World</td>\n",
       "      <td>Chris Pratt|Bryce Dallas Howard|Irrfan Khan|Vi...</td>\n",
       "      <td>http://www.jurassicworld.com/</td>\n",
       "      <td>Colin Trevorrow</td>\n",
       "      <td>The park is open.</td>\n",
       "      <td>...</td>\n",
       "      <td>Twenty-two years after the events of Jurassic ...</td>\n",
       "      <td>124</td>\n",
       "      <td>Action|Adventure|Science Fiction|Thriller</td>\n",
       "      <td>Universal Studios|Amblin Entertainment|Legenda...</td>\n",
       "      <td>6/9/15</td>\n",
       "      <td>5562</td>\n",
       "      <td>6.5</td>\n",
       "      <td>2015</td>\n",
       "      <td>1.379999e+08</td>\n",
       "      <td>1.392446e+09</td>\n",
       "    </tr>\n",
       "  </tbody>\n",
       "</table>\n",
       "<p>1 rows × 21 columns</p>\n",
       "</div>"
      ],
      "text/plain": [
       "       id    imdb_id  popularity     budget     revenue  original_title  \\\n",
       "0  135397  tt0369610   32.985763  150000000  1513528810  Jurassic World   \n",
       "\n",
       "                                                cast  \\\n",
       "0  Chris Pratt|Bryce Dallas Howard|Irrfan Khan|Vi...   \n",
       "\n",
       "                        homepage         director            tagline  ...  \\\n",
       "0  http://www.jurassicworld.com/  Colin Trevorrow  The park is open.  ...   \n",
       "\n",
       "                                            overview runtime  \\\n",
       "0  Twenty-two years after the events of Jurassic ...     124   \n",
       "\n",
       "                                      genres  \\\n",
       "0  Action|Adventure|Science Fiction|Thriller   \n",
       "\n",
       "                                production_companies release_date vote_count  \\\n",
       "0  Universal Studios|Amblin Entertainment|Legenda...       6/9/15       5562   \n",
       "\n",
       "   vote_average  release_year    budget_adj   revenue_adj  \n",
       "0           6.5          2015  1.379999e+08  1.392446e+09  \n",
       "\n",
       "[1 rows x 21 columns]"
      ]
     },
     "execution_count": 23,
     "metadata": {},
     "output_type": "execute_result"
    }
   ],
   "source": [
    "maxbp(\"popularity\")"
   ]
  },
  {
   "cell_type": "markdown",
   "id": "a6f4ebda-87b0-47c1-9464-8c2ff85a888c",
   "metadata": {},
   "source": [
    "> Here we are checking the whole row whereby we have the highest **popularity** of a movie"
   ]
  },
  {
   "cell_type": "markdown",
   "id": "1edd44c8-3fef-489a-acae-a017ac146f60",
   "metadata": {},
   "source": [
    "> **Research Question 4 - Who was the director and the cast members of the movie which had the highest grossing?**\n",
    "\n",
    "> **Research Question 5 - Which is the highest grossing movie?**"
   ]
  },
  {
   "cell_type": "code",
   "execution_count": 15,
   "id": "925f7ca1-c147-44bf-89a1-d9bdd49999cd",
   "metadata": {},
   "outputs": [
    {
     "data": {
      "text/plain": [
       "2781505847"
      ]
     },
     "execution_count": 15,
     "metadata": {},
     "output_type": "execute_result"
    }
   ],
   "source": [
    "df[\"revenue\"].max()"
   ]
  },
  {
   "cell_type": "code",
   "execution_count": 21,
   "id": "366be159-ed3f-4388-b51b-007953519e50",
   "metadata": {},
   "outputs": [
    {
     "data": {
      "text/html": [
       "<div>\n",
       "<style scoped>\n",
       "    .dataframe tbody tr th:only-of-type {\n",
       "        vertical-align: middle;\n",
       "    }\n",
       "\n",
       "    .dataframe tbody tr th {\n",
       "        vertical-align: top;\n",
       "    }\n",
       "\n",
       "    .dataframe thead th {\n",
       "        text-align: right;\n",
       "    }\n",
       "</style>\n",
       "<table border=\"1\" class=\"dataframe\">\n",
       "  <thead>\n",
       "    <tr style=\"text-align: right;\">\n",
       "      <th></th>\n",
       "      <th>id</th>\n",
       "      <th>imdb_id</th>\n",
       "      <th>popularity</th>\n",
       "      <th>budget</th>\n",
       "      <th>revenue</th>\n",
       "      <th>original_title</th>\n",
       "      <th>cast</th>\n",
       "      <th>homepage</th>\n",
       "      <th>director</th>\n",
       "      <th>tagline</th>\n",
       "      <th>...</th>\n",
       "      <th>overview</th>\n",
       "      <th>runtime</th>\n",
       "      <th>genres</th>\n",
       "      <th>production_companies</th>\n",
       "      <th>release_date</th>\n",
       "      <th>vote_count</th>\n",
       "      <th>vote_average</th>\n",
       "      <th>release_year</th>\n",
       "      <th>budget_adj</th>\n",
       "      <th>revenue_adj</th>\n",
       "    </tr>\n",
       "  </thead>\n",
       "  <tbody>\n",
       "    <tr>\n",
       "      <th>1386</th>\n",
       "      <td>19995</td>\n",
       "      <td>tt0499549</td>\n",
       "      <td>9.432768</td>\n",
       "      <td>237000000</td>\n",
       "      <td>2781505847</td>\n",
       "      <td>Avatar</td>\n",
       "      <td>Sam Worthington|Zoe Saldana|Sigourney Weaver|S...</td>\n",
       "      <td>http://www.avatarmovie.com/</td>\n",
       "      <td>James Cameron</td>\n",
       "      <td>Enter the World of Pandora.</td>\n",
       "      <td>...</td>\n",
       "      <td>In the 22nd century, a paraplegic Marine is di...</td>\n",
       "      <td>162</td>\n",
       "      <td>Action|Adventure|Fantasy|Science Fiction</td>\n",
       "      <td>Ingenious Film Partners|Twentieth Century Fox ...</td>\n",
       "      <td>12/10/09</td>\n",
       "      <td>8458</td>\n",
       "      <td>7.1</td>\n",
       "      <td>2009</td>\n",
       "      <td>2.408869e+08</td>\n",
       "      <td>2.827124e+09</td>\n",
       "    </tr>\n",
       "  </tbody>\n",
       "</table>\n",
       "<p>1 rows × 21 columns</p>\n",
       "</div>"
      ],
      "text/plain": [
       "         id    imdb_id  popularity     budget     revenue original_title  \\\n",
       "1386  19995  tt0499549    9.432768  237000000  2781505847         Avatar   \n",
       "\n",
       "                                                   cast  \\\n",
       "1386  Sam Worthington|Zoe Saldana|Sigourney Weaver|S...   \n",
       "\n",
       "                         homepage       director                      tagline  \\\n",
       "1386  http://www.avatarmovie.com/  James Cameron  Enter the World of Pandora.   \n",
       "\n",
       "      ...                                           overview runtime  \\\n",
       "1386  ...  In the 22nd century, a paraplegic Marine is di...     162   \n",
       "\n",
       "                                        genres  \\\n",
       "1386  Action|Adventure|Fantasy|Science Fiction   \n",
       "\n",
       "                                   production_companies release_date  \\\n",
       "1386  Ingenious Film Partners|Twentieth Century Fox ...     12/10/09   \n",
       "\n",
       "     vote_count  vote_average  release_year    budget_adj   revenue_adj  \n",
       "1386       8458           7.1          2009  2.408869e+08  2.827124e+09  \n",
       "\n",
       "[1 rows x 21 columns]"
      ]
     },
     "execution_count": 21,
     "metadata": {},
     "output_type": "execute_result"
    }
   ],
   "source": [
    "maxbp(\"revenue\")"
   ]
  },
  {
   "cell_type": "markdown",
   "id": "21dd4f22-47ec-4284-a3bb-69fb766618f6",
   "metadata": {},
   "source": [
    "> Here we are checking the whole row whereby we have the highest **revenue** made by a movie"
   ]
  },
  {
   "cell_type": "markdown",
   "id": "6f93637b-f1d4-47ab-b9ee-31591db01e4e",
   "metadata": {},
   "source": [
    "> **Research Question 6 - Which genres are most popular from year to year?**"
   ]
  },
  {
   "cell_type": "code",
   "execution_count": 3,
   "id": "5b7dadf6-2114-4345-b371-a4c5e47faf5b",
   "metadata": {},
   "outputs": [],
   "source": [
    "#pop = df.groupby([\"release_year\"])[\"popularity\"].max()\n",
    "#df[df[\"release_year\"] == pop]"
   ]
  },
  {
   "cell_type": "code",
   "execution_count": 16,
   "id": "c91ed12b-976f-4607-80d8-a41212f090af",
   "metadata": {},
   "outputs": [
    {
     "data": {
      "text/plain": [
       "release_year\n",
       "1960     2.610362\n",
       "1961     2.631987\n",
       "1962     3.170651\n",
       "1963     2.508235\n",
       "1964     3.153791\n",
       "1965     1.910465\n",
       "1966     1.227582\n",
       "1967     2.550704\n",
       "1968     3.309196\n",
       "1969     1.778746\n",
       "1970     1.936962\n",
       "1971     3.072555\n",
       "1972     5.738034\n",
       "1973     2.272486\n",
       "1974     3.264571\n",
       "1975     3.258151\n",
       "1976     2.582657\n",
       "1977    12.037933\n",
       "1978     1.697618\n",
       "1979     4.935897\n",
       "1980     5.488441\n",
       "1981     4.578300\n",
       "1982     4.215642\n",
       "1983     4.828854\n",
       "1984     4.831966\n",
       "1985     6.095293\n",
       "1986     2.485419\n",
       "1987     3.474728\n",
       "1988     3.777441\n",
       "1989     4.143585\n",
       "1990     2.679627\n",
       "1991     3.852269\n",
       "1992     4.586426\n",
       "1993     2.571339\n",
       "1994     8.093754\n",
       "1995     4.765359\n",
       "1996     4.480733\n",
       "1997     6.668990\n",
       "1998     4.180540\n",
       "1999     8.947905\n",
       "2000     4.271452\n",
       "2001     8.575419\n",
       "2002     8.095275\n",
       "2003     7.122455\n",
       "2004     5.827781\n",
       "2005     5.939927\n",
       "2006     5.838503\n",
       "2007     4.965391\n",
       "2008     8.466668\n",
       "2009     9.432768\n",
       "2010     9.363643\n",
       "2011     8.411577\n",
       "2012     7.637767\n",
       "2013     6.112766\n",
       "2014    24.949134\n",
       "2015    32.985763\n",
       "Name: popularity, dtype: float64"
      ]
     },
     "execution_count": 16,
     "metadata": {},
     "output_type": "execute_result"
    }
   ],
   "source": [
    "df.groupby([\"release_year\"])[\"popularity\"].max()"
   ]
  },
  {
   "cell_type": "code",
   "execution_count": 36,
   "id": "e4e3576f-0523-447c-ae81-b5689fc43a87",
   "metadata": {},
   "outputs": [
    {
     "data": {
      "text/plain": [
       "56"
      ]
     },
     "execution_count": 36,
     "metadata": {},
     "output_type": "execute_result"
    }
   ],
   "source": [
    "df[\"release_year\"].nunique()"
   ]
  },
  {
   "cell_type": "markdown",
   "id": "7ecf481d-e260-4d6d-9d47-dab78c3bcf33",
   "metadata": {},
   "source": [
    "> **Research Question 7 - How has the revenue been over the years?**"
   ]
  },
  {
   "cell_type": "code",
   "execution_count": 26,
   "id": "2c17d5f3-0d67-4ec6-ab26-a48fbb39f233",
   "metadata": {},
   "outputs": [
    {
     "data": {
      "image/png": "[encoded data removed]",
      "text/plain": [
       "<Figure size 432x216 with 1 Axes>"
      ]
     },
     "metadata": {
      "needs_background": "light"
     },
     "output_type": "display_data"
    }
   ],
   "source": [
    "def timeseries (a, b, c, d, e):\n",
    "    mean_hp = df.groupby(a)[b].mean()\n",
    "    mean_hp.plot(kind = c, figsize = (6,3), c = d, title = e)\n",
    "    return timeseries\n",
    "timeseries (\"release_year\",\"revenue\",\"line\",\"green\", \"Time Series of Revenue\");\n",
    "\n"
   ]
  },
  {
   "cell_type": "markdown",
   "id": "558631bd-8d78-4c97-944e-dbd6c9735b49",
   "metadata": {},
   "source": [
    "> Here we choose to plot a time series by grouping the data with the **release_year** and getting the mean **revenue** \n",
    "\n",
    ">The time series shows a steady increase of the **revenue** of a movie up to the year **2000** where it starts to decline"
   ]
  },
  {
   "cell_type": "markdown",
   "id": "b0eb4bbc-ddeb-44b1-8b68-2334f4abfbe2",
   "metadata": {},
   "source": [
    "> **Research Question 8 - How has the budget been over the years?**"
   ]
  },
  {
   "cell_type": "code",
   "execution_count": 28,
   "id": "cb14a28b-36c6-4aa0-9fd2-6f7b19817e63",
   "metadata": {},
   "outputs": [
    {
     "data": {
      "image/png": "[encoded data removed]",
      "text/plain": [
       "<Figure size 432x216 with 1 Axes>"
      ]
     },
     "metadata": {
      "needs_background": "light"
     },
     "output_type": "display_data"
    }
   ],
   "source": [
    "timeseries (\"release_year\",\"budget\",\"line\",\"red\", \"Time Series of the Budget\");\n"
   ]
  },
  {
   "cell_type": "markdown",
   "id": "8094f719-62bf-4d92-b507-ce1157ae719e",
   "metadata": {},
   "source": [
    "> Here we choose to plot a time series by grouping the data with the **release_year** and getting the mean **budget** \n",
    "\n",
    ">The time series shows a steady increase of the **budget** of a movie up to the year **2000** where it starts to decline"
   ]
  },
  {
   "cell_type": "markdown",
   "id": "3aba725b-242e-4790-9aff-284170b9abed",
   "metadata": {},
   "source": [
    "> **Research Question 9 - What kinds of properties are associated with movies that have high revenues?**"
   ]
  },
  {
   "cell_type": "code",
   "execution_count": 16,
   "id": "c0e254ee-99a7-46fd-a80f-dda946b8672a",
   "metadata": {},
   "outputs": [
    {
     "data": {
      "text/plain": [
       "budget\n",
       "0            3.106567e+06\n",
       "1            3.695000e+02\n",
       "2            1.600000e+01\n",
       "3            1.966667e+01\n",
       "5            0.000000e+00\n",
       "                 ...     \n",
       "270000000    3.910812e+08\n",
       "280000000    1.405036e+09\n",
       "300000000    9.610000e+08\n",
       "380000000    1.021683e+09\n",
       "425000000    1.108757e+07\n",
       "Name: revenue, Length: 557, dtype: float64"
      ]
     },
     "execution_count": 16,
     "metadata": {},
     "output_type": "execute_result"
    }
   ],
   "source": [
    "def ass(a,b):\n",
    "    ass = df.groupby([a])[b].mean()\n",
    "    return ass\n",
    "ass(\"budget\",\"revenue\")\n",
    "#df.groupby([\"budget\"])[\"revenue\"].mean()"
   ]
  },
  {
   "cell_type": "code",
   "execution_count": 30,
   "id": "074d0586-2784-423a-b6a5-eb5d82d7c084",
   "metadata": {},
   "outputs": [
    {
     "data": {
      "text/plain": [
       "genres\n",
       "Action                                      3.700596e+07\n",
       "Action|Adventure                            3.228354e+07\n",
       "Action|Adventure|Animation                  0.000000e+00\n",
       "Action|Adventure|Animation|Comedy|Drama     1.662719e+07\n",
       "Action|Adventure|Animation|Comedy|Family    0.000000e+00\n",
       "                                                ...     \n",
       "Western|Drama|Crime|Romance                 1.031243e+06\n",
       "Western|History                             1.579519e+07\n",
       "Western|History|War                         2.581996e+07\n",
       "Western|Horror|Thriller                     0.000000e+00\n",
       "Western|Thriller                            6.147000e+03\n",
       "Name: revenue, Length: 2039, dtype: float64"
      ]
     },
     "execution_count": 30,
     "metadata": {},
     "output_type": "execute_result"
    }
   ],
   "source": [
    "ass(\"genres\",\"revenue\")"
   ]
  },
  {
   "cell_type": "markdown",
   "id": "f8f2215f-7cf9-4eac-b4d2-89144b630c8f",
   "metadata": {},
   "source": [
    "> We grouped the movies based on their **genres** and checked the mean of their **revenues** and checked what **genres** had the highest revenues."
   ]
  },
  {
   "cell_type": "code",
   "execution_count": 31,
   "id": "b2ea5663-66ce-49b4-a31f-5275a742b366",
   "metadata": {},
   "outputs": [
    {
     "data": {
      "text/plain": [
       "cast\n",
       "\"Weird Al\" Yankovic|Victoria Jackson|Michael Richards|David Bowe|Fran Drescher                                          0.0\n",
       "50 Cent|Forest Whitaker|Robert De Niro|Ryan O'Nan|Matt Gerald                                                           0.0\n",
       "50 Cent|Joy Bryant|Adewale Akinnuoye-Agbaje|Omar Benson Miller|Terrence Howard                                   46442528.0\n",
       "50 Cent|Ryan Phillippe|Bruce Willis|James Remar|Randy Couture                                                           0.0\n",
       "50 Cent|Tamer Hassan|Danny Dyer|Blake Ritson|EsmÃ© Bianco                                                               0.0\n",
       "                                                                                                                    ...    \n",
       "Ã“lafur Darri Ã“lafsson|JÃ³hann G. JÃ³hannsson|Thora Bjorg Helga|TheodÃ³r JÃºlÃ­usson|MarÃ­a SigurÃ°ardÃ³ttir           0.0\n",
       "Ã“scar Jaenada|Michael Imperioli|Luis Gerardo MÃ©ndez|JoaquÃ­n Cosio|Teresa Ruiz                                        0.0\n",
       "Ã‡etin Tekindor|Fikret Kuskan|Binnur Kaya|Ã–zge Ã–zberk|Tuba Buyukustun                                                 0.0\n",
       "Ã‰milie Dequenne|LoÃ¯c Corbery|Anne Coesens|Martine Chevalier|Annelise Hesme                                            0.0\n",
       "Ã€lex BrendemÃ¼hl|TÃ³mas Lemarquis|Derek de Lint|Irene MontalÃ |FÃ©lix GÃ³mez                                           0.0\n",
       "Name: revenue, Length: 10719, dtype: float64"
      ]
     },
     "execution_count": 31,
     "metadata": {},
     "output_type": "execute_result"
    }
   ],
   "source": [
    "ass(\"cast\",\"revenue\")"
   ]
  },
  {
   "cell_type": "markdown",
   "id": "7ba144dd-5038-46de-94ed-3918a3b34731",
   "metadata": {},
   "source": [
    "<a id='conclusions'></a>\n",
    "## Conclusion"
   ]
  },
  {
   "cell_type": "markdown",
   "id": "0f3679fd-917a-4df3-afdf-3238cd72140a",
   "metadata": {},
   "source": [
    "+ From the scatter plot it shows that the Budget and the Revenue they have a positive correlation whereby an increase in budget will cause an increase in revenue\n",
    "+ The movie which had the highest budget was *__The Warrior's Way__*\n",
    "+ The most popular movie was *__Jurassic World__*\n",
    "+ The director of the movie with the highest gross was *__James Cameron__* and cast members were _**Sam Worthington, Zoe Saldana, Sigourney Weaver**_\n",
    "+ The movie which had the highest gross was *__Avatar__*\n",
    "+ The revenue of the movies over the years has been inclining from the year *1960* up to *2000* where it started declining\n",
    "+ The budget of the movies over the years has been inclining from the year *1960* up to *2000* where it started declining\n",
    "+ Some of the properties associated with movies that have high revenues are *__Have high budgets and the Genres are mostly Action and Adventure__*"
   ]
  },
  {
   "cell_type": "markdown",
   "id": "12ff34da-5ca5-46b5-9acc-21f04f4fb6a4",
   "metadata": {},
   "source": [
    "<a id='limitations'></a>\n",
    "## Limitations"
   ]
  },
  {
   "cell_type": "markdown",
   "id": "31908552-9395-4105-9343-533585e0d86e",
   "metadata": {},
   "source": [
    "> We have only worked with few variables hence limiting the amount of analysis\n",
    "\n",
    "> There were alot of Null values \n",
    "\n",
    "> Dropping missing or Null values from variables of our interest might skew our analysis and could show unintentional bias towards the relationship being analyzed."
   ]
  }
 ],
 "metadata": {
  "kernelspec": {
   "display_name": "Python 3 (ipykernel)",
   "language": "python",
   "name": "python3"
  },
  "language_info": {
   "codemirror_mode": {
    "name": "ipython",
    "version": 3
   },
   "file_extension": ".py",
   "mimetype": "text/x-python",
   "name": "python",
   "nbconvert_exporter": "python",
   "pygments_lexer": "ipython3",
   "version": "3.9.12"
  }
 },
 "nbformat": 4,
 "nbformat_minor": 5
}
